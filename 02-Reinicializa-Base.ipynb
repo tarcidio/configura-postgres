{
 "cells": [
  {
   "cell_type": "markdown",
   "metadata": {},
   "source": [
    "# Reinicializa a Base"
   ]
  },
  {
   "cell_type": "code",
   "execution_count": 1,
   "metadata": {},
   "outputs": [],
   "source": [
    "# Importa bibliotecas e sql magic\n",
    "import matplotlib.pyplot as plt\n",
    "import pandas.io.sql as pdsql\n",
    "from sqlalchemy import create_engine, text\n",
    "from config import credentials\n",
    "\n",
    "%load_ext sql\n",
    "\n",
    "# Importando usuário, senha, host e nome da base\n",
    "# Altere APENAS arquivo config.py\n",
    "user = credentials['user']\n",
    "password = credentials['password']\n",
    "host = credentials['host']\n",
    "database = credentials['database']\n",
    "\n",
    "# Cria string de conexão para execução do psql.exe\n",
    "conexao = f\"host='{host}' port='5432' dbname='{database}' user='{user}' password='{password}'\"\n",
    "\n",
    "# Caminho da pasta origem\n",
    "origem = credentials['path']"
   ]
  },
  {
   "cell_type": "code",
   "execution_count": null,
   "metadata": {},
   "outputs": [],
   "source": [
    "# Conecta com base de dados da disciplina que deve ser criado previamente\n",
    "engine = create_engine(f'postgresql://{user}:{password}@{host}/{database}')\n",
    "connsql= engine.connect()\n",
    "%sql postgresql://{user}:{password}@{host}/{database}"
   ]
  },
  {
   "cell_type": "markdown",
   "metadata": {},
   "source": [
    "**Primeiro passo:**\n",
    "\n",
    "1. Importa `PROCEDURES` criadas para os administradores da base da disciplina\n"
   ]
  },
  {
   "cell_type": "code",
   "execution_count": null,
   "metadata": {},
   "outputs": [],
   "source": [
    "# Executa o código\n",
    "!psql.exe \"{conexao}\" < \"{origem}SQL-Scripts\\\\02-Procedimentos-Administrador.sql\""
   ]
  },
  {
   "cell_type": "markdown",
   "metadata": {},
   "source": [
    "**Segundo passo:**\n",
    "\n",
    "1. Deleta todos os`SCHEMAS`\n",
    "2. Deleta todos os usuários\n",
    "3. Deleta todos as `ROLES`\n",
    "4. Deleta tabela `Alunos`\n"
   ]
  },
  {
   "cell_type": "code",
   "execution_count": null,
   "metadata": {},
   "outputs": [],
   "source": [
    "# Executa o código\n",
    "!psql.exe \"{conexao}\" < \"{origem}SQL-Scripts\\\\04-Deleta-Esquemas-Papeis-Usuarios.sql\""
   ]
  },
  {
   "cell_type": "code",
   "execution_count": null,
   "metadata": {},
   "outputs": [],
   "source": [
    "%%sql\n",
    "DROP TABLE Aluno;"
   ]
  },
  {
   "cell_type": "markdown",
   "metadata": {},
   "source": [
    "**Terceiro passo:**\n",
    "\n",
    "1. Explora os `SCHEMAS` criados \n",
    "1. Explora as `ROLES` criadas"
   ]
  },
  {
   "cell_type": "code",
   "execution_count": null,
   "metadata": {},
   "outputs": [],
   "source": [
    "%%sql\n",
    "SELECT schema_name\n",
    "FROM information_schema.schemata;"
   ]
  },
  {
   "cell_type": "code",
   "execution_count": null,
   "metadata": {},
   "outputs": [],
   "source": [
    "%%sql\n",
    "SELECT *\n",
    "FROM pg_roles;"
   ]
  }
 ],
 "metadata": {
  "kernelspec": {
   "display_name": "MGBD",
   "language": "python",
   "name": "python3"
  },
  "language_info": {
   "codemirror_mode": {
    "name": "ipython",
    "version": 3
   },
   "file_extension": ".py",
   "mimetype": "text/x-python",
   "name": "python",
   "nbconvert_exporter": "python",
   "pygments_lexer": "ipython3",
   "version": "3.9.19"
  }
 },
 "nbformat": 4,
 "nbformat_minor": 2
}
