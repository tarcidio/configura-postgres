{
 "cells": [
  {
   "cell_type": "markdown",
   "metadata": {},
   "source": [
    "Importe as bibliotecas e as configurações"
   ]
  },
  {
   "cell_type": "code",
   "execution_count": 1,
   "metadata": {},
   "outputs": [],
   "source": [
    "# Importa bibliotecas e sql magic\n",
    "import matplotlib.pyplot as plt\n",
    "import pandas.io.sql as pdsql\n",
    "from sqlalchemy import create_engine, text\n",
    "\n",
    "%load_ext sql\n",
    "\n",
    "# Configura usuário, senha, host e nome da base\n",
    "user = 'compartilhado'\n",
    "password = 'scc244'\n",
    "host = 'localhost'\n",
    "# Escolha a base que quer acessar\n",
    "db_alunos_15 = 'alunos15'\n",
    "db_alunos_80 = 'alunos80'\n",
    "db_fapcov_2103 = 'fapcov2103'"
   ]
  },
  {
   "cell_type": "markdown",
   "metadata": {},
   "source": [
    "Conecte-se com a base do servidor"
   ]
  },
  {
   "cell_type": "code",
   "execution_count": null,
   "metadata": {},
   "outputs": [],
   "source": [
    "# Conecta com base de dados\n",
    "engine = create_engine(f'postgresql://{user}:{password}@{host}/{db_fapcov_2103}')\n",
    "connsql= engine.connect()\n",
    "%sql postgresql://{user}:{password}@{host}/{db_fapcov_2103}"
   ]
  },
  {
   "cell_type": "markdown",
   "metadata": {},
   "source": [
    "Faça leitura"
   ]
  },
  {
   "cell_type": "code",
   "execution_count": null,
   "metadata": {},
   "outputs": [],
   "source": [
    "%%sql\n",
    "SELECT \n",
    "    S.NSpName, \n",
    "    C.RelName, \n",
    "    C.RelPages, \n",
    "    TO_CHAR(C.RelTuples, '999G999G999') RelTuples, \n",
    "    C.RelNAtts\n",
    "FROM PG_Class C JOIN PG_NameSpace S ON C.RelNameSpace = S.OId\n",
    "WHERE NspName !~*'(pg_)|(Information_schema)' AND RelKind='r'\n",
    "ORDER BY 1,2;"
   ]
  }
 ],
 "metadata": {
  "kernelspec": {
   "display_name": "MGBD",
   "language": "python",
   "name": "python3"
  },
  "language_info": {
   "codemirror_mode": {
    "name": "ipython",
    "version": 3
   },
   "file_extension": ".py",
   "mimetype": "text/x-python",
   "name": "python",
   "nbconvert_exporter": "python",
   "pygments_lexer": "ipython3",
   "version": "3.9.19"
  }
 },
 "nbformat": 4,
 "nbformat_minor": 2
}
