{
 "cells": [
  {
   "cell_type": "markdown",
   "metadata": {},
   "source": [
    "Importe as bibliotecas e as configurações"
   ]
  },
  {
   "cell_type": "code",
   "execution_count": null,
   "metadata": {},
   "outputs": [],
   "source": [
    "# Importa bibliotecas e sql magic\n",
    "import matplotlib.pyplot as plt\n",
    "import pandas.io.sql as pdsql\n",
    "from sqlalchemy import create_engine, text\n",
    "\n",
    "%load_ext sql\n",
    "\n",
    "# Configura usuário, senha, host e nome da base\n",
    "# Se quiser, pode colocar as informações em um .py separado\n",
    "user = '99999999' # Número USP\n",
    "password = 'a99999999' # f'a{user}'\n",
    "host = 'localhost'\n",
    "database = 'scc244_2024'"
   ]
  },
  {
   "cell_type": "markdown",
   "metadata": {},
   "source": [
    "Conecte-se com a base do servidor"
   ]
  },
  {
   "cell_type": "code",
   "execution_count": null,
   "metadata": {},
   "outputs": [],
   "source": [
    "# Conecta com base de dados\n",
    "engine = create_engine(f'postgresql://{user}:{password}@{host}/{database}')\n",
    "connsql= engine.connect()\n",
    "%sql postgresql://{user}:{password}@{host}/{database}"
   ]
  },
  {
   "cell_type": "markdown",
   "metadata": {},
   "source": [
    "Altere sua senha"
   ]
  },
  {
   "cell_type": "code",
   "execution_count": null,
   "metadata": {},
   "outputs": [],
   "source": [
    "%%sql\n",
    "ALTER USER \"99999999\" WITH PASSWORD 'nova_senha';\n"
   ]
  },
  {
   "cell_type": "markdown",
   "metadata": {},
   "source": [
    "Verifique qual esquema tem acesso"
   ]
  },
  {
   "cell_type": "code",
   "execution_count": null,
   "metadata": {},
   "outputs": [],
   "source": [
    "%%sql\n",
    "SELECT schema_name\n",
    "FROM information_schema.schemata;"
   ]
  },
  {
   "cell_type": "markdown",
   "metadata": {},
   "source": [
    "Configure `Search_Path` para o único esquema que você tem acesso. Você e seu grupo tem todas as permissões para esse esquema.\n",
    "\n",
    ">> Para evitar confusão, lembrem-se de que o conceito de **\"ESQUEMA DE BANCO DE DADOS\"** é diferente de **\"ESQUEMA RELACIONAL\"**. "
   ]
  },
  {
   "cell_type": "code",
   "execution_count": null,
   "metadata": {},
   "outputs": [],
   "source": [
    "%%sql\n",
    "SET Search_Path To \"GRUPO-01-ESQUEMA\";"
   ]
  },
  {
   "cell_type": "markdown",
   "metadata": {},
   "source": [
    "Crie uma tabela teste"
   ]
  },
  {
   "cell_type": "code",
   "execution_count": null,
   "metadata": {},
   "outputs": [],
   "source": [
    "%%sql\n",
    "CREATE TABLE test();"
   ]
  },
  {
   "cell_type": "markdown",
   "metadata": {},
   "source": [
    "Drope a tabela teste"
   ]
  },
  {
   "cell_type": "code",
   "execution_count": null,
   "metadata": {},
   "outputs": [],
   "source": [
    "%%sql\n",
    "DROP TABLE test;"
   ]
  }
 ],
 "metadata": {
  "kernelspec": {
   "display_name": "MGBD",
   "language": "python",
   "name": "python3"
  },
  "language_info": {
   "codemirror_mode": {
    "name": "ipython",
    "version": 3
   },
   "file_extension": ".py",
   "mimetype": "text/x-python",
   "name": "python",
   "nbconvert_exporter": "python",
   "pygments_lexer": "ipython3",
   "version": "3.9.19"
  }
 },
 "nbformat": 4,
 "nbformat_minor": 2
}
