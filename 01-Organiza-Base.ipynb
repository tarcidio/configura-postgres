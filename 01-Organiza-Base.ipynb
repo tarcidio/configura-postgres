{
 "cells": [
  {
   "cell_type": "markdown",
   "metadata": {},
   "source": [
    "# Organiza Base"
   ]
  },
  {
   "cell_type": "markdown",
   "metadata": {},
   "source": [
    "Para este script, deve-se apenas alterar:\n",
    "1. Arquivo `config.py`: alterar os dados conforme a situação;\n",
    "2. Script `01-Cria-Tabelas.sql`: alterar caminho dos arquivos no comando `\\copy`;\n",
    "3. Script `03-Cria-Esquemas-Papeis-Usuarios.sql`: alterar `nomeBaseDados TEXT` para o mesmo nome da base usado no `config.py`. Caso queira, também é possível alterar o prefixo dos nomes do `SCHEMA` a serem criados na variável `prefixoNomeEsquema`.\n",
    "\n",
    "Para este script, deve-se adicionar na pasta `CSV` dois arquivos: `matriculados.csv` e `grupos.csv`\n",
    "\n",
    "* O arquivo `matriculados.csv` contém as seguintes colunas:\n",
    "    * `CODIGO`: Número USP do aluno (Atributo **USADO** no script)\n",
    "    * `INGRESSO`: Ano de ingresso (Atributo **NÃO USADO** no script)\n",
    "    * `CURSO`: Nome do curso (Atributo **NÃO USADO** no script)\n",
    "    * `NOME`: Nome do aluno (Atributo **USADO** no script)\n",
    "    * `EMAIL`: E-mail do aluno (Atributo **USADO** no script)\n",
    "    * `SITUACAO`: Situação do aluno (ex: ativo, trancado) (Atributo **NÃO USADO** no script)\n",
    "\n",
    "* O arquivo `grupos.csv` contém as seguintes colunas:\n",
    "    * `ALUNO`: Nome do aluno (Atributo **NÃO USADO** no script)\n",
    "    * `NUSP`: Número USP do aluno (Atributo **USADO** no script)\n",
    "    * `GRUPO`: Nome ou código do grupo (Atributo **USADO** no script)\n",
    "\n",
    "4. Caso algo de errado, considere questão de divergência de biblioteca. Utilize `conda env create -f ambiente-conda.yml` para configurar o ambiente conda do mesmo jeito que o autor configurou\n",
    "\n",
    "Segue o código para importar e se conectar"
   ]
  },
  {
   "cell_type": "code",
   "execution_count": 1,
   "metadata": {},
   "outputs": [],
   "source": [
    "# Importa bibliotecas e sql magic\n",
    "import matplotlib.pyplot as plt\n",
    "import pandas.io.sql as pdsql\n",
    "from sqlalchemy import create_engine, text\n",
    "from config import credentials\n",
    "\n",
    "%load_ext sql\n",
    "\n",
    "# Importando usuário, senha, host e nome da base\n",
    "# Altere APENAS arquivo config.py\n",
    "user = credentials['user']\n",
    "password = credentials['password']\n",
    "host = credentials['host']\n",
    "database = credentials['database']\n",
    "\n",
    "# Cria string de conexão para execução do psql.exe\n",
    "conexao = f\"host='{host}' port='5432' dbname='{database}' user='{user}' password='{password}'\"\n",
    "\n",
    "# Caminho da pasta origem\n",
    "origem = credentials['path']"
   ]
  },
  {
   "cell_type": "code",
   "execution_count": null,
   "metadata": {},
   "outputs": [],
   "source": [
    "# Conecta com base de dados da disciplina que deve ser criado previamente\n",
    "engine = create_engine(f'postgresql://{user}:{password}@{host}/{database}')\n",
    "connsql= engine.connect()\n",
    "%sql postgresql://{user}:{password}@{host}/{database}"
   ]
  },
  {
   "cell_type": "markdown",
   "metadata": {},
   "source": [
    "**Primeiro passo:**\n",
    "\n",
    "1. Cria três tabelas: duas para uso na leitura e outro para o resultado\n",
    "2. Lê os dois arquivos: `matriculados.csv` e `grupos.csv`\n",
    "2. Junta os dois arquivos na tabela, selecionando os dados importantes e gerando coluna para senha"
   ]
  },
  {
   "cell_type": "code",
   "execution_count": null,
   "metadata": {},
   "outputs": [],
   "source": [
    "# Executa o código\n",
    "!psql.exe \"{conexao}\" < \"{origem}SQL-Scripts\\\\01-Cria-Tabelas.sql\""
   ]
  },
  {
   "cell_type": "markdown",
   "metadata": {},
   "source": [
    "**Segundo passo:**\n",
    "\n",
    "1. Cria `SCHEMA` para os administradores da base da disciplina\n",
    "2. Importa `PROCEDURES` criadas para os administradores da base da disciplina\n"
   ]
  },
  {
   "cell_type": "code",
   "execution_count": null,
   "metadata": {},
   "outputs": [],
   "source": [
    "# Executa o código\n",
    "!psql.exe \"{conexao}\" < \"{origem}SQL-Scripts\\\\02-Procedimentos-Administrador.sql\""
   ]
  },
  {
   "cell_type": "markdown",
   "metadata": {},
   "source": [
    "**Terceiro passo:**\n",
    "\n",
    "1. Com base no número de grupos na disciplina, cria um `SCHEMA` para cada grupo e sua respectiva `ROLE`\n",
    "2. Cria um usuário para cada aluno e atribua a `ROLE` correspondente ao grupo a que o aluno pertence."
   ]
  },
  {
   "cell_type": "code",
   "execution_count": null,
   "metadata": {},
   "outputs": [],
   "source": [
    "# Executa o código\n",
    "!psql.exe \"{conexao}\"< \"{origem}SQL-Scripts\\\\03-Cria-Esquemas-Papeis-Usuarios.sql\""
   ]
  },
  {
   "cell_type": "markdown",
   "metadata": {},
   "source": [
    "**Quarto passo:**\n",
    "\n",
    "1. Explora os `SCHEMAS` criados \n",
    "1. Explora as `ROLES` criadas"
   ]
  },
  {
   "cell_type": "code",
   "execution_count": null,
   "metadata": {},
   "outputs": [],
   "source": [
    "%%sql\n",
    "SELECT schema_name\n",
    "FROM information_schema.schemata;"
   ]
  },
  {
   "cell_type": "code",
   "execution_count": null,
   "metadata": {},
   "outputs": [],
   "source": [
    "%%sql\n",
    "SELECT *\n",
    "FROM pg_roles;"
   ]
  },
  {
   "cell_type": "markdown",
   "metadata": {},
   "source": [
    "**Quinto passo:**\n",
    "\n",
    "1. Se conecta como um aluno para testar algumas restrições"
   ]
  },
  {
   "cell_type": "code",
   "execution_count": null,
   "metadata": {},
   "outputs": [],
   "source": [
    "# Feche a conexão\n",
    "connsql.close()\n",
    "# Feche o engine\n",
    "engine.dispose()"
   ]
  },
  {
   "cell_type": "code",
   "execution_count": 1,
   "metadata": {},
   "outputs": [],
   "source": [
    "# Importa bibliotecas e sql magic\n",
    "import matplotlib.pyplot as plt\n",
    "import pandas.io.sql as pdsql\n",
    "from sqlalchemy import create_engine, text\n",
    "from config import credentials\n",
    "\n",
    "%load_ext sql\n",
    "\n",
    "# Importando usuário, senha, host e nome da base\n",
    "# Altere APENAS arquivo config.py\n",
    "user = credentials['user']\n",
    "password = credentials['password']\n",
    "host = credentials['host']\n",
    "database = credentials['database']\n",
    "\n",
    "# Cria string de conexão para execução do psql.exe\n",
    "conexao = f\"host='{host}' port='5432' dbname='{database}' user='{user}' password='{password}'\"\n",
    "\n",
    "# Caminho da pasta origem\n",
    "origem = credentials['path']"
   ]
  },
  {
   "cell_type": "code",
   "execution_count": null,
   "metadata": {},
   "outputs": [],
   "source": [
    "# Conecta com base de dados da disciplina que deve ser criado previamente\n",
    "engine = create_engine(f'postgresql://1111111:a1111111@{host}/{database}')\n",
    "connsql= engine.connect()\n",
    "%sql postgresql://1111111:a1111111@{host}/{database}"
   ]
  },
  {
   "cell_type": "code",
   "execution_count": null,
   "metadata": {},
   "outputs": [],
   "source": [
    "%%sql\n",
    "SELECT schema_name\n",
    "FROM information_schema.schemata;"
   ]
  },
  {
   "cell_type": "code",
   "execution_count": null,
   "metadata": {},
   "outputs": [],
   "source": [
    "%%sql\n",
    "SET Search_Path To \"GRUPO-06-ESQUEMA\";"
   ]
  },
  {
   "cell_type": "markdown",
   "metadata": {},
   "source": [
    "Deve mostrar \"must be owner of table aluno\""
   ]
  },
  {
   "cell_type": "code",
   "execution_count": null,
   "metadata": {},
   "outputs": [],
   "source": [
    "%%sql\n",
    "DROP TABLE \"public\".Aluno;"
   ]
  },
  {
   "cell_type": "markdown",
   "metadata": {},
   "source": [
    "Deve mostrar \"schema \"Administrador\" does not exist\""
   ]
  },
  {
   "cell_type": "code",
   "execution_count": null,
   "metadata": {},
   "outputs": [],
   "source": [
    "%%sql\n",
    "CREATE TABLE \"Administrador\".teste();"
   ]
  },
  {
   "cell_type": "markdown",
   "metadata": {},
   "source": [
    "Deve conseguir criar e deletar a tabela"
   ]
  },
  {
   "cell_type": "code",
   "execution_count": null,
   "metadata": {},
   "outputs": [],
   "source": [
    "%%sql\n",
    "CREATE TABLE teste();"
   ]
  },
  {
   "cell_type": "code",
   "execution_count": null,
   "metadata": {},
   "outputs": [],
   "source": [
    "%%sql\n",
    "DROP TABLE teste;"
   ]
  }
 ],
 "metadata": {
  "kernelspec": {
   "display_name": "MGBD",
   "language": "python",
   "name": "python3"
  },
  "language_info": {
   "codemirror_mode": {
    "name": "ipython",
    "version": 3
   },
   "file_extension": ".py",
   "mimetype": "text/x-python",
   "name": "python",
   "nbconvert_exporter": "python",
   "pygments_lexer": "ipython3",
   "version": "3.9.19"
  }
 },
 "nbformat": 4,
 "nbformat_minor": 2
}
